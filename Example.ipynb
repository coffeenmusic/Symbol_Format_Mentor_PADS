{
 "cells": [
  {
   "cell_type": "code",
   "execution_count": 1,
   "metadata": {},
   "outputs": [],
   "source": [
    "from sym_format import sf"
   ]
  },
  {
   "cell_type": "code",
   "execution_count": 2,
   "metadata": {},
   "outputs": [
    {
     "data": {
      "text/plain": [
       "['V',\n",
       " 'K',\n",
       " 'F',\n",
       " '|R',\n",
       " 'Y',\n",
       " 'D',\n",
       " 'Z',\n",
       " 'i',\n",
       " 'L',\n",
       " 'U',\n",
       " 'A',\n",
       " 'P',\n",
       " '|FNTSTL',\n",
       " '|GRPHSTL',\n",
       " '|GRPHSTL_EXT01',\n",
       " 'Q',\n",
       " 'b',\n",
       " 'l',\n",
       " 'E']"
      ]
     },
     "execution_count": 2,
     "metadata": {},
     "output_type": "execute_result"
    }
   ],
   "source": [
    "sf.get_identifier_list()"
   ]
  },
  {
   "cell_type": "markdown",
   "metadata": {},
   "source": [
    "### Example with Label Object Type."
   ]
  },
  {
   "cell_type": "code",
   "execution_count": 3,
   "metadata": {},
   "outputs": [
    {
     "data": {
      "text/plain": [
       "{'L': 0,\n",
       " 'x': 1,\n",
       " 'y': 2,\n",
       " 'size': 3,\n",
       " 'rotation': 4,\n",
       " 'justification': 5,\n",
       " 'locality': 6,\n",
       " 'visible': 7,\n",
       " 'inverted': 8,\n",
       " 'value': 9}"
      ]
     },
     "execution_count": 3,
     "metadata": {},
     "output_type": "execute_result"
    }
   ],
   "source": [
    "# Get L Index Format\n",
    "sf.objects['L'].idx"
   ]
  },
  {
   "cell_type": "code",
   "execution_count": 4,
   "metadata": {},
   "outputs": [
    {
     "data": {
      "text/plain": [
       "{'Upper Left': 1,\n",
       " 'Middle Left': 2,\n",
       " 'Lower Left': 3,\n",
       " 'Upper Center': 4,\n",
       " 'Middle Center': 5,\n",
       " 'Lower Center': 6,\n",
       " 'Upper Right': 7,\n",
       " 'Middle Right': 8,\n",
       " 'Lower Right': 9}"
      ]
     },
     "execution_count": 4,
     "metadata": {},
     "output_type": "execute_result"
    }
   ],
   "source": [
    "# Get options for justification field\n",
    "sf.objects['L'].field['justification']"
   ]
  },
  {
   "cell_type": "markdown",
   "metadata": {},
   "source": [
    "### Show examples of each Object Type"
   ]
  },
  {
   "cell_type": "code",
   "execution_count": 5,
   "metadata": {},
   "outputs": [
    {
     "name": "stdout",
     "output_type": "stream",
     "text": [
      "Format: \tV version\n",
      "Example:\tV 51\n",
      "\n",
      "Format: \tK magic-number original-name\n",
      "Example:\tK ?? ??\n",
      "\n",
      "Format: \tF case\n",
      "Example:\tF ??\n",
      "\n",
      "Format: \t|R timestamp\n",
      "Example:\t|R ??\n",
      "\n",
      "Format: \tY symbol-type\n",
      "Example:\tY 1\n",
      "\n",
      "Format: \tD xmin ymin xmax ymax\n",
      "Example:\tD ?? ?? ?? ??\n",
      "\n",
      "Format: \tZ sheet-size\n",
      "Example:\tZ 10\n",
      "\n",
      "Format: \ti max\n",
      "Example:\ti ??\n",
      "\n",
      "Format: \tL x y size rotation justification locality visible inverted value\n",
      "Example:\tL ?? ?? ?? 4 2 1 3 0 ??\n",
      "\n",
      "Format: \tU x y size rotation justification visible value\n",
      "Example:\tU ?? ?? ?? 0 3 2 ??\n",
      "\n",
      "Format: \tA x y size rotation justification visible value\n",
      "Example:\tA ?? ?? ?? 7 6 2 ??\n",
      "\n",
      "Format: \tP id x-net y-net x-sym y-sym unk side inverted\n",
      "Example:\tP ?? ?? ?? ?? ?? ?? 2 1\n",
      "\n",
      "Format: \t|FNTSTL color style\n",
      "Example:\t|FNTSTL ?? 2\n",
      "\n",
      "Format: \t|GRPHSTL color fill-color line-style line-width\n",
      "Example:\t|GRPHSTL ?? ?? -1 9\n",
      "\n",
      "Format: \t|GRPHSTL_EXT01 color fill-color fill-style line-style line-width\n",
      "Example:\t|GRPHSTL_EXT01 ?? ?? ?? 3 6\n",
      "\n",
      "Format: \tQ color fill-style line-style\n",
      "Example:\tQ 9 16 5\n",
      "\n",
      "Format: \tb x1 y1 x2 y2\n",
      "Example:\tb ?? ?? ?? ??\n",
      "\n",
      "Format: \tl count x1 y1 x2 y2\n",
      "Example:\tl ?? ?? ?? ?? ??\n",
      "\n",
      "Format: \tE\n",
      "Example:\tE\n",
      "\n"
     ]
    }
   ],
   "source": [
    "# Question marks indicate there is not a specific Key-Value pair for that Field\n",
    "sf.print_examples()"
   ]
  },
  {
   "cell_type": "code",
   "execution_count": null,
   "metadata": {},
   "outputs": [],
   "source": []
  }
 ],
 "metadata": {
  "kernelspec": {
   "display_name": "Python 3",
   "language": "python",
   "name": "python3"
  },
  "language_info": {
   "codemirror_mode": {
    "name": "ipython",
    "version": 3
   },
   "file_extension": ".py",
   "mimetype": "text/x-python",
   "name": "python",
   "nbconvert_exporter": "python",
   "pygments_lexer": "ipython3",
   "version": "3.6.9"
  }
 },
 "nbformat": 4,
 "nbformat_minor": 2
}
