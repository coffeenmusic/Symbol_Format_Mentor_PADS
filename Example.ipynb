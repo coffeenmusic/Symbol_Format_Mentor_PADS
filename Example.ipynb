{
 "cells": [
  {
   "cell_type": "code",
   "execution_count": 1,
   "metadata": {},
   "outputs": [],
   "source": [
    "from sym_format import sf"
   ]
  },
  {
   "cell_type": "code",
   "execution_count": 2,
   "metadata": {},
   "outputs": [
    {
     "data": {
      "text/plain": [
       "['V',\n",
       " 'K',\n",
       " 'F',\n",
       " '|R',\n",
       " 'Y',\n",
       " 'D',\n",
       " 'Z',\n",
       " 'i',\n",
       " 'L',\n",
       " 'U',\n",
       " 'A',\n",
       " 'P',\n",
       " '|FNTSTL',\n",
       " '|GRPHSTL',\n",
       " '|GRPHSTL_EXT01',\n",
       " 'Q',\n",
       " 'b',\n",
       " 'l',\n",
       " 'E']"
      ]
     },
     "execution_count": 2,
     "metadata": {},
     "output_type": "execute_result"
    }
   ],
   "source": [
    "sf.get_identifier_list()"
   ]
  },
  {
   "cell_type": "markdown",
   "metadata": {},
   "source": [
    "### Example with Label Object Type."
   ]
  },
  {
   "cell_type": "code",
   "execution_count": 3,
   "metadata": {},
   "outputs": [
    {
     "data": {
      "text/plain": [
       "{'L': 0,\n",
       " 'x': 1,\n",
       " 'y': 2,\n",
       " 'size': 3,\n",
       " 'rotation': 4,\n",
       " 'justification': 5,\n",
       " 'locality': 6,\n",
       " 'visible': 7,\n",
       " 'inverted': 8,\n",
       " 'value': 9}"
      ]
     },
     "execution_count": 3,
     "metadata": {},
     "output_type": "execute_result"
    }
   ],
   "source": [
    "# Get L Index Format\n",
    "sf.objects['L'].idx"
   ]
  },
  {
   "cell_type": "code",
   "execution_count": 4,
   "metadata": {},
   "outputs": [
    {
     "data": {
      "text/plain": [
       "{'Upper Left': 1,\n",
       " 'Middle Left': 2,\n",
       " 'Lower Left': 3,\n",
       " 'Upper Center': 4,\n",
       " 'Middle Center': 5,\n",
       " 'Lower Center': 6,\n",
       " 'Upper Right': 7,\n",
       " 'Middle Right': 8,\n",
       " 'Lower Right': 9}"
      ]
     },
     "execution_count": 4,
     "metadata": {},
     "output_type": "execute_result"
    }
   ],
   "source": [
    "# Get options for justification field\n",
    "sf.objects['L'].field['justification']"
   ]
  },
  {
   "cell_type": "markdown",
   "metadata": {},
   "source": [
    "### Show examples of each Object Type"
   ]
  },
  {
   "cell_type": "code",
   "execution_count": 5,
   "metadata": {},
   "outputs": [
    {
     "name": "stdout",
     "output_type": "stream",
     "text": [
      "Format: \tV version\n",
      "Example:\tV 53\n",
      "\n",
      "Format: \tK magic-number original-name\n",
      "Example:\tK ?? ??\n",
      "\n",
      "Format: \tF case\n",
      "Example:\tF ??\n",
      "\n",
      "Format: \t|R timestamp\n",
      "Example:\t|R ??\n",
      "\n",
      "Format: \tY symbol-type\n",
      "Example:\tY 3\n",
      "\n",
      "Format: \tD xmin ymin xmax ymax\n",
      "Example:\tD ?? ?? ?? ??\n",
      "\n",
      "Format: \tZ sheet-size\n",
      "Example:\tZ 1\n",
      "\n",
      "Format: \ti max\n",
      "Example:\ti ??\n",
      "\n",
      "Format: \tL x y size rotation justification locality visible inverted value\n",
      "Example:\tL ?? ?? ?? 4 5 0 0 0 ??\n",
      "\n",
      "Format: \tU x y size rotation justification visible value\n",
      "Example:\tU ?? ?? ?? 3 3 3 ??\n",
      "\n",
      "Format: \tA x y size rotation justification visible value\n",
      "Example:\tA ?? ?? ?? 1 3 1 ??\n",
      "\n",
      "Format: \tP id x-net y-net x-sym y-sym unk side inverted\n",
      "Example:\tP ?? ?? ?? ?? ?? ?? 3 0\n",
      "\n",
      "Format: \t|FNTSTL color style\n",
      "Example:\t|FNTSTL ?? 8\n",
      "\n",
      "Format: \t|GRPHSTL color fill-color line-style line-width\n",
      "Example:\t|GRPHSTL ?? ?? 1 9\n",
      "\n",
      "Format: \t|GRPHSTL_EXT01 color fill-color fill-style line-style line-width\n",
      "Example:\t|GRPHSTL_EXT01 ?? ?? ?? 6 3\n",
      "\n",
      "Format: \tQ color fill-style line-style\n",
      "Example:\tQ 2 -1 3\n",
      "\n",
      "Format: \tb x1 y1 x2 y2\n",
      "Example:\tb ?? ?? ?? ??\n",
      "\n",
      "Format: \tl count x1 y1 x2 y2\n",
      "Example:\tl ?? ?? ?? ?? ??\n",
      "\n",
      "Format: \tE\n",
      "Example:\tE\n",
      "\n"
     ]
    }
   ],
   "source": [
    "# Question marks indicate there is not a specific Key-Value pair for that Field\n",
    "sf.print_examples()"
   ]
  },
  {
   "cell_type": "code",
   "execution_count": 8,
   "metadata": {},
   "outputs": [
    {
     "data": {
      "text/plain": [
       "{'A': 0,\n",
       " 'x': 1,\n",
       " 'y': 2,\n",
       " 'size': 3,\n",
       " 'rotation': 4,\n",
       " 'justification': 5,\n",
       " 'visible': 6,\n",
       " 'value': 7}"
      ]
     },
     "execution_count": 8,
     "metadata": {},
     "output_type": "execute_result"
    }
   ],
   "source": [
    "sf.objects['A'].idx"
   ]
  },
  {
   "cell_type": "code",
   "execution_count": 11,
   "metadata": {},
   "outputs": [
    {
     "data": {
      "text/plain": [
       "{'0': 0,\n",
       " '90': 1,\n",
       " '180': 2,\n",
       " '270': 3,\n",
       " 'MirrorH': 4,\n",
       " '90MirrorH': 5,\n",
       " '180MirrorH': 6,\n",
       " '270MirrorH': 7}"
      ]
     },
     "execution_count": 11,
     "metadata": {},
     "output_type": "execute_result"
    }
   ],
   "source": [
    "sf.objects['A'].field['rotation']"
   ]
  },
  {
   "cell_type": "code",
   "execution_count": 12,
   "metadata": {},
   "outputs": [
    {
     "data": {
      "text/plain": [
       "{}"
      ]
     },
     "execution_count": 12,
     "metadata": {},
     "output_type": "execute_result"
    }
   ],
   "source": [
    "sf.objects['A'].field['x']"
   ]
  },
  {
   "cell_type": "markdown",
   "metadata": {},
   "source": [
    "# Test Delete"
   ]
  },
  {
   "cell_type": "code",
   "execution_count": 29,
   "metadata": {},
   "outputs": [],
   "source": [
    "class FieldAttribute:\n",
    "    def __init__(self, name, value):\n",
    "        self.name = name\n",
    "        self.value = value\n",
    "        \n",
    "    def _set_range(min_range, max_range):\n",
    "        self.min_range = min_range\n",
    "        self.max_range = max_range"
   ]
  },
  {
   "cell_type": "code",
   "execution_count": 30,
   "metadata": {},
   "outputs": [
    {
     "data": {
      "text/plain": [
       "<__main__.FieldAttribute at 0x8281f28>"
      ]
     },
     "execution_count": 30,
     "metadata": {},
     "output_type": "execute_result"
    }
   ],
   "source": [
    "FieldAttribute('0', 0)"
   ]
  },
  {
   "cell_type": "code",
   "execution_count": 31,
   "metadata": {},
   "outputs": [],
   "source": [
    "class RotationField:\n",
    "    def __init__(self):        \n",
    "        self.rot_0 = FieldAttribute('0', 0)\n",
    "        self.rot_90 = FieldAttribute('90', 1)\n",
    "        self.rot_180 = FieldAttribute('180', 2)\n",
    "        self.rot_270 = FieldAttribute('270', 2)"
   ]
  },
  {
   "cell_type": "code",
   "execution_count": 32,
   "metadata": {},
   "outputs": [],
   "source": [
    "rotation = RotationField()"
   ]
  },
  {
   "cell_type": "code",
   "execution_count": 24,
   "metadata": {},
   "outputs": [
    {
     "data": {
      "text/plain": [
       "'0'"
      ]
     },
     "execution_count": 24,
     "metadata": {},
     "output_type": "execute_result"
    }
   ],
   "source": [
    "rotation.rot_90."
   ]
  },
  {
   "cell_type": "code",
   "execution_count": null,
   "metadata": {},
   "outputs": [],
   "source": [
    "class PinFormat:    \n",
    "    def __init__(self, obj_dict):\n",
    "        self.idx2val = {v:k for k, v in obj_dict.items()}\n",
    "        \n",
    "        # identifier: single letter identifier of object type. \n",
    "        self.identifier = self.idx2val[0]\n",
    "        self.idx = obj_dict\n",
    "        \n",
    "        field = {}\n",
    "        for k in obj_dict.keys():\n",
    "            field[k] = {}\n",
    "        self.field = field\n",
    "        self.field_idx2val = {}\n",
    "        \n",
    "    def _add_field(self, name, field_dict):\n",
    "        self.field[name] = field_dict\n",
    "        self.field_idx2val[name] = {v:k for k, v in field_dict.items()}\n",
    "    \n",
    "    \"\"\" \n",
    "    Example:\n",
    "    L x y size rotation justification locality visible inverted value\n",
    "    L ?? ?? ?? 4 1 1 1 1 ??\n",
    "    \"\"\"\n",
    "    def print_example(self):\n",
    "        desc = self.identifier\n",
    "        example = self.identifier\n",
    "        for i in range(1, len(self.field.values())):\n",
    "            # Description\n",
    "            desc += ' ' + str(self.idx2val[i])\n",
    "            \n",
    "            # Example\n",
    "            ex_values = list(self.field[self.idx2val[i]].values())\n",
    "            if len(ex_values) > 0:\n",
    "                rand_value = random.randrange(len(ex_values))\n",
    "                example += ' ' + str(ex_values[rand_value])\n",
    "            else:\n",
    "                example += ' ??'\n",
    "        print('Format: \\t' + desc)\n",
    "        print('Example:\\t' + example)"
   ]
  },
  {
   "cell_type": "code",
   "execution_count": null,
   "metadata": {},
   "outputs": [],
   "source": []
  },
  {
   "cell_type": "markdown",
   "metadata": {},
   "source": [
    "# Documentation"
   ]
  },
  {
   "cell_type": "code",
   "execution_count": 3,
   "metadata": {},
   "outputs": [
    {
     "data": {
      "text/plain": [
       "'|R'"
      ]
     },
     "execution_count": 3,
     "metadata": {},
     "output_type": "execute_result"
    }
   ],
   "source": [
    "# Get Object Type's identifier\n",
    "str(sf.R)"
   ]
  },
  {
   "cell_type": "code",
   "execution_count": 4,
   "metadata": {},
   "outputs": [
    {
     "data": {
      "text/plain": [
       "{'A': 0,\n",
       " 'x': 1,\n",
       " 'y': 2,\n",
       " 'size': 3,\n",
       " 'rotation': 4,\n",
       " 'justification': 5,\n",
       " 'visible': 6,\n",
       " 'value': 7}"
      ]
     },
     "execution_count": 4,
     "metadata": {},
     "output_type": "execute_result"
    }
   ],
   "source": [
    "# Get ObjectType's format\n",
    "sf.A()"
   ]
  },
  {
   "cell_type": "code",
   "execution_count": 5,
   "metadata": {},
   "outputs": [
    {
     "data": {
      "text/plain": [
       "4"
      ]
     },
     "execution_count": 5,
     "metadata": {},
     "output_type": "execute_result"
    }
   ],
   "source": [
    "# Get the index of an ObjectType's Field\n",
    "int(sf.A.rotation)"
   ]
  },
  {
   "cell_type": "code",
   "execution_count": 5,
   "metadata": {},
   "outputs": [
    {
     "data": {
      "text/plain": [
       "{'Rotate0': 0,\n",
       " 'Rotate90': 1,\n",
       " 'Rotate180': 2,\n",
       " 'Rotate270': 3,\n",
       " 'MirrorH': 4,\n",
       " 'MirrorH90': 5,\n",
       " 'MirrorH180': 6,\n",
       " 'MirrorH270': 7}"
      ]
     },
     "execution_count": 5,
     "metadata": {},
     "output_type": "execute_result"
    }
   ],
   "source": [
    "# Get Field's format\n",
    "sf.A.rotation()"
   ]
  },
  {
   "cell_type": "code",
   "execution_count": 6,
   "metadata": {},
   "outputs": [],
   "source": [
    "# Get Field's format w/ no discrete fields. Returns None\n",
    "sf.A.x()"
   ]
  },
  {
   "cell_type": "code",
   "execution_count": 4,
   "metadata": {},
   "outputs": [
    {
     "data": {
      "text/plain": [
       "7"
      ]
     },
     "execution_count": 4,
     "metadata": {},
     "output_type": "execute_result"
    }
   ],
   "source": [
    "# Get ObjectType's field count (Doesn't include identifier)\n",
    "len(sf.A)"
   ]
  },
  {
   "cell_type": "code",
   "execution_count": 4,
   "metadata": {},
   "outputs": [
    {
     "data": {
      "text/plain": [
       "8"
      ]
     },
     "execution_count": 4,
     "metadata": {},
     "output_type": "execute_result"
    }
   ],
   "source": [
    "# Get option count for a given Field\n",
    "len(sf.A.rotation)"
   ]
  },
  {
   "cell_type": "markdown",
   "metadata": {},
   "source": [
    "# Test Delete 2"
   ]
  },
  {
   "cell_type": "code",
   "execution_count": 1,
   "metadata": {},
   "outputs": [],
   "source": [
    "from sym_format2 import SymbolFormat"
   ]
  },
  {
   "cell_type": "code",
   "execution_count": 2,
   "metadata": {},
   "outputs": [],
   "source": [
    "sf = SymbolFormat()"
   ]
  },
  {
   "cell_type": "code",
   "execution_count": 4,
   "metadata": {},
   "outputs": [
    {
     "data": {
      "text/plain": [
       "{'L': 0,\n",
       " 'x': 1,\n",
       " 'y': 2,\n",
       " 'size': 3,\n",
       " 'rotation': 4,\n",
       " 'justification': 5,\n",
       " 'locality': 6,\n",
       " 'label_visible': 7,\n",
       " 'inverted': 8,\n",
       " 'value': 9}"
      ]
     },
     "execution_count": 4,
     "metadata": {},
     "output_type": "execute_result"
    }
   ],
   "source": [
    "sf.L()"
   ]
  },
  {
   "cell_type": "code",
   "execution_count": 4,
   "metadata": {},
   "outputs": [
    {
     "data": {
      "text/plain": [
       "<sym_format2.Field at 0x5254cf8>"
      ]
     },
     "execution_count": 4,
     "metadata": {},
     "output_type": "execute_result"
    }
   ],
   "source": [
    "sf.A.rotation"
   ]
  },
  {
   "cell_type": "code",
   "execution_count": 24,
   "metadata": {},
   "outputs": [
    {
     "name": "stdout",
     "output_type": "stream",
     "text": [
      "V\n",
      "A\n"
     ]
    }
   ],
   "source": [
    "for k in ObjectFormats.__dict__:\n",
    "    if not k.startswith('_'):\n",
    "        #sf._add_obj(ObjectType(getattr(of, k)))\n",
    "        print(k)"
   ]
  },
  {
   "cell_type": "code",
   "execution_count": 8,
   "metadata": {},
   "outputs": [],
   "source": [
    "sf."
   ]
  }
 ],
 "metadata": {
  "kernelspec": {
   "display_name": "Python 3",
   "language": "python",
   "name": "python3"
  },
  "language_info": {
   "codemirror_mode": {
    "name": "ipython",
    "version": 3
   },
   "file_extension": ".py",
   "mimetype": "text/x-python",
   "name": "python",
   "nbconvert_exporter": "python",
   "pygments_lexer": "ipython3",
   "version": "3.6.9"
  }
 },
 "nbformat": 4,
 "nbformat_minor": 2
}
